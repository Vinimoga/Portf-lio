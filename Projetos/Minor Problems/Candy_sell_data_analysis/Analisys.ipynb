{
 "cells": [
  {
   "cell_type": "markdown",
   "metadata": {},
   "source": [
    "### Beggining\n",
    "This project is about me selling candys at my college, I'll do it on mondays and tuesdays (segundas e quintas).\n",
    "I'll get the Bank statement every selling day and input it here to do some data analisys.\n",
    "This way, what can I get from this data:\n",
    "    - Who is buying\n",
    "    - How mutch am I gaining\n",
    "    - At what time they are buying it\n",
    "    - how many did they bought\n",
    "    - \n",
    "\n",
    "file name: Extrato-11-05-2024-a-10-06-2024.csv"
   ]
  },
  {
   "cell_type": "code",
   "execution_count": 15,
   "metadata": {},
   "outputs": [
    {
     "name": "stdout",
     "output_type": "stream",
     "text": [
      "['Extrato Conta Corrente ']\n",
      "['Conta ', '94476578']\n",
      "['Período ', '11/05/2024 a 10/06/2024']\n",
      "['Saldo: ', '182,00']\n",
      "[]\n",
      "['Data Lançamento', 'Descrição', 'Valor', 'Saldo']\n",
      "['06/06/2024', 'Pix recebido: \"Cp :00000000-BEATRIZ CAMILLY COSTA\"', '7,00', '7,00']\n",
      "['06/06/2024', 'Pix recebido: \"Cp :18236120-Helena Bridi Lona\"', '7,00', '14,00']\n",
      "['06/06/2024', 'Pix recebido: \"Cp :18236120-Barbara de Almeida\"', '7,00', '21,00']\n",
      "['06/06/2024', 'Pix recebido: \"Cp :60746948-ANA CAROLINE DAMASCENO DOS SANTOS\"', '7,00', '28,00']\n",
      "['06/06/2024', 'Pix recebido: \"Cp :60701190-JENNIFER P DOS SANTOS\"', '7,00', '35,00']\n",
      "['06/06/2024', 'Pix recebido: \"Cp :00000000-GIOVANA DE OLIVEIRA MELLO\"', '7,00', '42,00']\n",
      "['06/06/2024', 'Pix recebido: \"Cp :18236120-Thiago Novais de Medeiros\"', '7,00', '49,00']\n",
      "['06/06/2024', 'Pix recebido: \"Cp :18236120-Joao Pedro Pimenta Sim\"', '7,00', '56,00']\n",
      "['06/06/2024', 'Pix recebido: \"Cp :00000000-GABRIEL DE MATOS DOLCE\"', '7,00', '63,00']\n",
      "['09/06/2024', 'Pix recebido: \"Cp :18236120-Camila Garcia Kuhl\"', '7,00', '70,00']\n",
      "['10/06/2024', 'Pix recebido: \"Cp :18236120-Marina Vieira Souza\"', '7,00', '77,00']\n",
      "['10/06/2024', 'Pix recebido: \"Cp :18236120-Helena Bridi Lona\"', '7,00', '84,00']\n",
      "['10/06/2024', 'Pix recebido: \"Cp :60746948-LARISSA VIEIRA ARAUJO DE PADUA CHIODE\"', '7,00', '91,00']\n",
      "['10/06/2024', 'Pix recebido: \"Cp :60746948-LARISSA VIEIRA ARAUJO DE PADUA CHIODE\"', '7,00', '98,00']\n",
      "['10/06/2024', 'Pix recebido: \"Cp :18236120-Vitoria da Silva\"', '7,00', '105,00']\n",
      "['10/06/2024', 'Pix recebido: \"Cp :18236120-Vitoria da Silva\"', '7,00', '112,00']\n",
      "['10/06/2024', 'Pix recebido: \"Cp :18236120-Thomas Moura Regueira\"', '7,00', '119,00']\n",
      "['10/06/2024', 'Pix recebido: \"Cp :22896431-Larissa Dias Cauduro\"', '7,00', '126,00']\n",
      "['10/06/2024', 'Pix recebido: \"Cp :18236120-Criscyane Lorrany Lacerda Lima\"', '7,00', '133,00']\n",
      "['10/06/2024', 'Pix recebido: \"Cp :00360305-JOAO MARIANO MARTINS\"', '7,00', '140,00']\n",
      "['10/06/2024', 'Pix recebido: \"Cp :18236120-Theo Schiavo Belleza\"', '7,00', '147,00']\n",
      "['10/06/2024', 'Pix recebido: \"Cp :60701190-THIAGO NOVAIS DE MEDEIROS\"', '7,00', '154,00']\n",
      "['10/06/2024', 'Pix recebido: \"00019 0073471127 LARISSA SANTOS\"', '7,00', '161,00']\n",
      "['10/06/2024', 'Pix recebido: \"Cp :18236120-Gabriel Antonio da Silva Cadedo\"', '7,00', '168,00']\n",
      "['10/06/2024', 'Pix recebido: \"00019 0119122545 SILAS SANTOS\"', '7,00', '175,00']\n",
      "['10/06/2024', 'Pix recebido: \"Cp :18236120-Izadora Lais Alves Alcatrao\"', '7,00', '182,00']\n"
     ]
    }
   ],
   "source": [
    "import csv\n",
    "with open('Extratos\\Extrato-11-05-2024-a-10-06-2024.csv', 'r', encoding='utf8') as ficheiro:\n",
    "    extrato = list(csv.reader(ficheiro, delimiter=';'))  \n",
    "    for linha in extrato:\n",
    "        print(linha)       "
   ]
  },
  {
   "cell_type": "code",
   "execution_count": 16,
   "metadata": {},
   "outputs": [
    {
     "name": "stdout",
     "output_type": "stream",
     "text": [
      "[['Extrato Conta Corrente '], ['Conta ', '94476578'], ['Período ', '11/05/2024 a 10/06/2024'], ['Saldo: ', '182,00']]\n",
      "['06/06/2024', 'Pix recebido: \"Cp :00000000-BEATRIZ CAMILLY COSTA\"', '7,00', '7,00']\n"
     ]
    }
   ],
   "source": [
    "#Dividindo o extrato em dois, um reader e um text\n",
    "reader = extrato[:4]\n",
    "text = extrato[6:]\n",
    "print(reader)\n",
    "print(text[0])"
   ]
  },
  {
   "cell_type": "markdown",
   "metadata": {},
   "source": [
    "Criar uma função que separa o extrato e divide ele em dois"
   ]
  },
  {
   "cell_type": "code",
   "execution_count": 17,
   "metadata": {},
   "outputs": [],
   "source": [
    "def separar_extrato(path):\n",
    "    \"\"\"\n",
    "    Obtem o extrato corretamente e o divide em dois: o cabeçalho e o texto (O extrato é específicamente do banco inter)\n",
    "\n",
    "    Args:\n",
    "        path(str): caminho do arquivo que queremos transformar (.csv)\n",
    "\n",
    "    Returns:\n",
    "        cabeçalho(list): parte descritiva do extrato\n",
    "        texto(list): parte útil (conteúdo) do extrato       \n",
    "    \"\"\"\n",
    "    with open(path, 'r', encoding='utf8') as ficheiro:\n",
    "        extrato = list(csv.reader(ficheiro, delimiter=';'))  \n",
    "        cabecalho = extrato[:4]\n",
    "        texto = extrato[6:]\n",
    "\n",
    "    return cabecalho, texto"
   ]
  },
  {
   "cell_type": "markdown",
   "metadata": {},
   "source": [
    "O que vai ser feito:\n",
    "\n",
    "- Função que extrai o nome da string \n",
    "- Função que transforma todas as compras em um dicionário com chaves = [Nome, QTD de Compras, Ultima compra]"
   ]
  },
  {
   "cell_type": "code",
   "execution_count": 18,
   "metadata": {},
   "outputs": [
    {
     "name": "stdout",
     "output_type": "stream",
     "text": [
      "IZADORA LAIS ALVES ALCATRAO\n"
     ]
    }
   ],
   "source": [
    "def obter_nome_de_texto(texto):\n",
    "    \"\"\"\n",
    "    Obter o nome de uma string retirada diretamente do extrato bancário do Banco inter para armazenamento\n",
    "\n",
    "    Args:\n",
    "        texto (str): Texto Cru\n",
    "\n",
    "    Returns:\n",
    "        str: nome\n",
    "    \n",
    "    Example:\n",
    "    'Pix recebido: \"00019 0073471127 LARISSA SANTOS\"'                  ->          'LARISSA SANTOS'\n",
    "    'Pix recebido: \"Cp :18236120-Izadora Lais Alves Alcatrao\"'         ->          'IZADORA LAIS ALVES ALCATRAO'\n",
    "    \"\"\"\n",
    "    \n",
    "    texto = ''.join(c for c in texto if not c.isdigit()) #Tirar os numeros\n",
    "    texto = texto.replace(\":\",\"\").replace(\"-\",\"\")        #Tirar \":\" e \"-\"\n",
    "    texto = texto.replace(\"Cp \",\"\")                      #Tirar \"Cp \"\n",
    "    texto = texto.replace(\"  \",\"\")                       #Tirar espaços duplos\n",
    "    texto = texto.replace(\"Pix recebido \",\"\")            #Tirar texto inicial das frases\n",
    "    texto = texto.replace('\"',\"\")                        #Tirar aspas não necessárias\n",
    "    texto = texto.upper()\n",
    "        \n",
    "    return texto\n",
    "a = obter_nome_de_texto('Pix recebido: \"Cp :18236120-Izadora Lais Alves Alcatrao\"')\n",
    "print(a)"
   ]
  },
  {
   "cell_type": "code",
   "execution_count": 19,
   "metadata": {},
   "outputs": [
    {
     "name": "stdout",
     "output_type": "stream",
     "text": [
      "[{'Nome': 'BEATRIZ CAMILLY COSTA', 'Compras': 1, 'Ultima Compra': '06/06/2024'}, {'Nome': 'HELENA BRIDI LONA', 'Compras': 2, 'Ultima Compra': '10/06/2024'}, {'Nome': 'BARBARA DE ALMEIDA', 'Compras': 1, 'Ultima Compra': '06/06/2024'}, {'Nome': 'ANA CAROLINE DAMASCENO DOS SANTOS', 'Compras': 1, 'Ultima Compra': '06/06/2024'}, {'Nome': 'JENNIFER P DOS SANTOS', 'Compras': 1, 'Ultima Compra': '06/06/2024'}, {'Nome': 'GIOVANA DE OLIVEIRA MELLO', 'Compras': 1, 'Ultima Compra': '06/06/2024'}, {'Nome': 'THIAGO NOVAIS DE MEDEIROS', 'Compras': 2, 'Ultima Compra': '10/06/2024'}, {'Nome': 'JOAO PEDRO PIMENTA SIM', 'Compras': 1, 'Ultima Compra': '06/06/2024'}, {'Nome': 'GABRIEL DE MATOS DOLCE', 'Compras': 1, 'Ultima Compra': '06/06/2024'}, {'Nome': 'CAMILA GARCIA KUHL', 'Compras': 1, 'Ultima Compra': '09/06/2024'}, {'Nome': 'MARINA VIEIRA SOUZA', 'Compras': 1, 'Ultima Compra': '10/06/2024'}, {'Nome': 'LARISSA VIEIRA ARAUJO DE PADUA CHIODE', 'Compras': 2, 'Ultima Compra': '10/06/2024'}, {'Nome': 'VITORIA DA SILVA', 'Compras': 2, 'Ultima Compra': '10/06/2024'}, {'Nome': 'THOMAS MOURA REGUEIRA', 'Compras': 1, 'Ultima Compra': '10/06/2024'}, {'Nome': 'LARISSA DIAS CAUDURO', 'Compras': 1, 'Ultima Compra': '10/06/2024'}, {'Nome': 'CRISCYANE LORRANY LACERDA LIMA', 'Compras': 1, 'Ultima Compra': '10/06/2024'}, {'Nome': 'JOAO MARIANO MARTINS', 'Compras': 1, 'Ultima Compra': '10/06/2024'}, {'Nome': 'THEO SCHIAVO BELLEZA', 'Compras': 1, 'Ultima Compra': '10/06/2024'}, {'Nome': 'LARISSA SANTOS', 'Compras': 1, 'Ultima Compra': '10/06/2024'}, {'Nome': 'GABRIEL ANTONIO DA SILVA CADEDO', 'Compras': 1, 'Ultima Compra': '10/06/2024'}, {'Nome': 'SILAS SANTOS', 'Compras': 1, 'Ultima Compra': '10/06/2024'}, {'Nome': 'IZADORA LAIS ALVES ALCATRAO', 'Compras': 1, 'Ultima Compra': '10/06/2024'}]\n"
     ]
    }
   ],
   "source": [
    "def extrato_to_dict(extrato):\n",
    "    \"\"\"\n",
    "    Transforma um extrato em um dicionário com com chaves = [Nome, QTD de Compras, Ultima compra]\n",
    "\n",
    "    Args:\n",
    "        extrato (list): Lista de pix\n",
    "\n",
    "    Returns:\n",
    "        list: pix organizados em dicionários, organizados em uma lista\n",
    "    \"\"\"\n",
    "    compradores = []\n",
    "    for linha in extrato:\n",
    "        Nome = obter_nome_de_texto(linha[1])\n",
    "        presente = False\n",
    "        for compra in range(len(compradores)):\n",
    "\n",
    "            if Nome == compradores[compra][\"Nome\"]:\n",
    "                presente = True\n",
    "                compradores[compra][\"Compras\"] += 1\n",
    "                compradores[compra][\"Ultima Compra\"] = linha[0]\n",
    "        \n",
    "        if presente == False:\n",
    "            temp = {\"Nome\":Nome,\"Compras\":1 ,\"Ultima Compra\": linha[0]}\n",
    "            compradores.append(temp)       \n",
    "    \n",
    "    return compradores\n",
    "\n",
    "a = extrato_to_dict(text)\n",
    "print(a)"
   ]
  },
  {
   "cell_type": "markdown",
   "metadata": {},
   "source": [
    "Agora transformaremos esse dicionários em um arquivo CSV\n"
   ]
  },
  {
   "cell_type": "code",
   "execution_count": null,
   "metadata": {},
   "outputs": [],
   "source": [
    "import csv\n",
    "\n",
    "def dict_to_csv(dictionary):\n",
    "    \"\"\"\n",
    "    Transforma um dicionário em um arquivo CSV\n",
    "\n",
    "    Args:\n",
    "        extrato (list): Lista de dicionários [pix] (necessário que todos tenham o mesmo formato referente a quantidade de chaves)\n",
    "    \"\"\"\n",
    "    colunas = dictionary[0].keys() #Pega as chaves do primeiro item (assumindo que são todos iguais)    \n",
    "    \n",
    "    arquivo = open(\"Análise.csv\", 'w', newline='')\n",
    "    escrita = csv.DictWriter(arquivo, fieldnames= colunas)\n",
    "    escrita.writeheader()\n",
    "    escrita.writerows(dictionary)\n",
    "\n",
    "dict_to_csv(a)"
   ]
  },
  {
   "cell_type": "markdown",
   "metadata": {},
   "source": [
    "Próximos Passos:\n",
    "- Voltar do CSV para Dicionário\n",
    "- Atualizar o Banco de dados  "
   ]
  },
  {
   "cell_type": "code",
   "execution_count": null,
   "metadata": {},
   "outputs": [
    {
     "name": "stdout",
     "output_type": "stream",
     "text": [
      "[{'Nome': 'BEATRIZ CAMILLY COSTA', 'Compras': '1', 'Ultima Compra': '06/06/2024'}, {'Nome': 'HELENA BRIDI LONA', 'Compras': '2', 'Ultima Compra': '10/06/2024'}, {'Nome': 'BARBARA DE ALMEIDA', 'Compras': '1', 'Ultima Compra': '06/06/2024'}, {'Nome': 'ANA CAROLINE DAMASCENO DOS SANTOS', 'Compras': '1', 'Ultima Compra': '06/06/2024'}, {'Nome': 'JENNIFER P DOS SANTOS', 'Compras': '1', 'Ultima Compra': '06/06/2024'}, {'Nome': 'GIOVANA DE OLIVEIRA MELLO', 'Compras': '1', 'Ultima Compra': '06/06/2024'}, {'Nome': 'THIAGO NOVAIS DE MEDEIROS', 'Compras': '2', 'Ultima Compra': '10/06/2024'}, {'Nome': 'JOAO PEDRO PIMENTA SIM', 'Compras': '1', 'Ultima Compra': '06/06/2024'}, {'Nome': 'GABRIEL DE MATOS DOLCE', 'Compras': '1', 'Ultima Compra': '06/06/2024'}, {'Nome': 'CAMILA GARCIA KUHL', 'Compras': '1', 'Ultima Compra': '09/06/2024'}, {'Nome': 'MARINA VIEIRA SOUZA', 'Compras': '1', 'Ultima Compra': '10/06/2024'}, {'Nome': 'HELENA BRIDI LONA', 'Compras': '1', 'Ultima Compra': '10/06/2024'}, {'Nome': 'LARISSA VIEIRA ARAUJO DE PADUA CHIODE', 'Compras': '2', 'Ultima Compra': '10/06/2024'}, {'Nome': 'LARISSA VIEIRA ARAUJO DE PADUA CHIODE', 'Compras': '1', 'Ultima Compra': '10/06/2024'}, {'Nome': 'VITORIA DA SILVA', 'Compras': '2', 'Ultima Compra': '10/06/2024'}, {'Nome': 'VITORIA DA SILVA', 'Compras': '1', 'Ultima Compra': '10/06/2024'}, {'Nome': 'THOMAS MOURA REGUEIRA', 'Compras': '1', 'Ultima Compra': '10/06/2024'}, {'Nome': 'LARISSA DIAS CAUDURO', 'Compras': '1', 'Ultima Compra': '10/06/2024'}, {'Nome': 'CRISCYANE LORRANY LACERDA LIMA', 'Compras': '1', 'Ultima Compra': '10/06/2024'}, {'Nome': 'JOAO MARIANO MARTINS', 'Compras': '1', 'Ultima Compra': '10/06/2024'}, {'Nome': 'THEO SCHIAVO BELLEZA', 'Compras': '1', 'Ultima Compra': '10/06/2024'}, {'Nome': 'THIAGO NOVAIS DE MEDEIROS', 'Compras': '1', 'Ultima Compra': '10/06/2024'}, {'Nome': 'LARISSA SANTOS', 'Compras': '1', 'Ultima Compra': '10/06/2024'}, {'Nome': 'GABRIEL ANTONIO DA SILVA CADEDO', 'Compras': '1', 'Ultima Compra': '10/06/2024'}, {'Nome': 'SILAS SANTOS', 'Compras': '1', 'Ultima Compra': '10/06/2024'}, {'Nome': 'IZADORA LAIS ALVES ALCATRAO', 'Compras': '1', 'Ultima Compra': '10/06/2024'}]\n"
     ]
    }
   ],
   "source": [
    "def CSV_to_dict(path):\n",
    "    \"\"\"\n",
    "    Transforma um CSV em um dicionário python\n",
    "\n",
    "    Args:\n",
    "        path(str): caminho do arquivo que queremos transformar (.csv)\n",
    "\n",
    "    Returns:\n",
    "        list: pix organizados em dicionários, organizados em uma lista\n",
    "    \"\"\"\n",
    "    \n",
    "    with open(path, newline='') as csvfile:\n",
    "        arquive = csv.DictReader(csvfile)\n",
    "        lista = []\n",
    "        for row in arquive:\n",
    "            lista.append(row)\n",
    "    return lista\n",
    "\n",
    "a = CSV_to_dict(\"Análise.csv\")\n",
    "print(a)"
   ]
  },
  {
   "cell_type": "code",
   "execution_count": null,
   "metadata": {},
   "outputs": [],
   "source": [
    "\n",
    "def atualizar_banco_de_dados(info_path, extract_path):\n",
    "    \"\"\"\n",
    "    Atualiza um bando de dados já existente, obtendo os dados antigos e novos, comparando um a um e atualizando\n",
    "\n",
    "    Nesse caso é assumido que o dia todo já foi contabilizado, então qualquer dia que se repetir durante a atualização \n",
    "    vai fazer com que os dados sejam repetidos (Necessário pensar numa solução)\n",
    "\n",
    "    Args:\n",
    "        path(str): caminho do arquivo que queremos atualizar (.csv)\n",
    "        extract(str): caminho do arquivo com novas informações (.csv)\n",
    "\n",
    "    Returns:\n",
    "        list: pix organizados em dicionários, organizados em uma lista\n",
    "    \"\"\"\n",
    "    #Obter dados antigos e novos\n",
    "\n",
    "    old_info = CSV_to_dict(info_path)\n",
    "    cabecalho, texto = separar_extrato(extract_path)\n",
    "    new_info = extrato_to_dict(texto)\n",
    "    \n",
    "    #Comparar\n",
    "    for new_line in new_info:\n",
    "        for old_line in old_info:\n",
    "            if new_line('Nome') == old_line('Nome'):\n",
    "                old_line\n",
    "\n"
   ]
  }
 ],
 "metadata": {
  "kernelspec": {
   "display_name": "Python 3",
   "language": "python",
   "name": "python3"
  },
  "language_info": {
   "codemirror_mode": {
    "name": "ipython",
    "version": 3
   },
   "file_extension": ".py",
   "mimetype": "text/x-python",
   "name": "python",
   "nbconvert_exporter": "python",
   "pygments_lexer": "ipython3",
   "version": "3.10.6"
  }
 },
 "nbformat": 4,
 "nbformat_minor": 2
}
